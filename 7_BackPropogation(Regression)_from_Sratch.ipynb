{
  "nbformat": 4,
  "nbformat_minor": 0,
  "metadata": {
    "colab": {
      "provenance": []
    },
    "kernelspec": {
      "name": "python3",
      "display_name": "Python 3"
    },
    "language_info": {
      "name": "python"
    }
  },
  "cells": [
    {
      "cell_type": "code",
      "execution_count": 2,
      "metadata": {
        "id": "EDKMxNNRjv4G"
      },
      "outputs": [],
      "source": [
        "import numpy as np\n",
        "import pandas as pd"
      ]
    },
    {
      "cell_type": "markdown",
      "source": [
        "# Dataset Creation:"
      ],
      "metadata": {
        "id": "Pk3HKtw3kBK9"
      }
    },
    {
      "cell_type": "code",
      "source": [
        "df = pd.DataFrame([[8,8,4],[7,9,5],[6,10,6],[5,12,7]],columns=['cgpa','resume_score','lpa'])"
      ],
      "metadata": {
        "id": "ys9aO3dVj_cX"
      },
      "execution_count": 3,
      "outputs": []
    },
    {
      "cell_type": "code",
      "source": [
        "df"
      ],
      "metadata": {
        "colab": {
          "base_uri": "https://localhost:8080/",
          "height": 175
        },
        "id": "5NSaE6spkXzH",
        "outputId": "dbf4ae7c-baac-42fe-8796-d2cf7d3dc937"
      },
      "execution_count": 4,
      "outputs": [
        {
          "output_type": "execute_result",
          "data": {
            "text/plain": [
              "   cgpa  resume_score  lpa\n",
              "0     8             8    4\n",
              "1     7             9    5\n",
              "2     6            10    6\n",
              "3     5            12    7"
            ],
            "text/html": [
              "\n",
              "  <div id=\"df-f845402c-42fd-459d-95de-451e13357ec5\" class=\"colab-df-container\">\n",
              "    <div>\n",
              "<style scoped>\n",
              "    .dataframe tbody tr th:only-of-type {\n",
              "        vertical-align: middle;\n",
              "    }\n",
              "\n",
              "    .dataframe tbody tr th {\n",
              "        vertical-align: top;\n",
              "    }\n",
              "\n",
              "    .dataframe thead th {\n",
              "        text-align: right;\n",
              "    }\n",
              "</style>\n",
              "<table border=\"1\" class=\"dataframe\">\n",
              "  <thead>\n",
              "    <tr style=\"text-align: right;\">\n",
              "      <th></th>\n",
              "      <th>cgpa</th>\n",
              "      <th>resume_score</th>\n",
              "      <th>lpa</th>\n",
              "    </tr>\n",
              "  </thead>\n",
              "  <tbody>\n",
              "    <tr>\n",
              "      <th>0</th>\n",
              "      <td>8</td>\n",
              "      <td>8</td>\n",
              "      <td>4</td>\n",
              "    </tr>\n",
              "    <tr>\n",
              "      <th>1</th>\n",
              "      <td>7</td>\n",
              "      <td>9</td>\n",
              "      <td>5</td>\n",
              "    </tr>\n",
              "    <tr>\n",
              "      <th>2</th>\n",
              "      <td>6</td>\n",
              "      <td>10</td>\n",
              "      <td>6</td>\n",
              "    </tr>\n",
              "    <tr>\n",
              "      <th>3</th>\n",
              "      <td>5</td>\n",
              "      <td>12</td>\n",
              "      <td>7</td>\n",
              "    </tr>\n",
              "  </tbody>\n",
              "</table>\n",
              "</div>\n",
              "    <div class=\"colab-df-buttons\">\n",
              "\n",
              "  <div class=\"colab-df-container\">\n",
              "    <button class=\"colab-df-convert\" onclick=\"convertToInteractive('df-f845402c-42fd-459d-95de-451e13357ec5')\"\n",
              "            title=\"Convert this dataframe to an interactive table.\"\n",
              "            style=\"display:none;\">\n",
              "\n",
              "  <svg xmlns=\"http://www.w3.org/2000/svg\" height=\"24px\" viewBox=\"0 -960 960 960\">\n",
              "    <path d=\"M120-120v-720h720v720H120Zm60-500h600v-160H180v160Zm220 220h160v-160H400v160Zm0 220h160v-160H400v160ZM180-400h160v-160H180v160Zm440 0h160v-160H620v160ZM180-180h160v-160H180v160Zm440 0h160v-160H620v160Z\"/>\n",
              "  </svg>\n",
              "    </button>\n",
              "\n",
              "  <style>\n",
              "    .colab-df-container {\n",
              "      display:flex;\n",
              "      gap: 12px;\n",
              "    }\n",
              "\n",
              "    .colab-df-convert {\n",
              "      background-color: #E8F0FE;\n",
              "      border: none;\n",
              "      border-radius: 50%;\n",
              "      cursor: pointer;\n",
              "      display: none;\n",
              "      fill: #1967D2;\n",
              "      height: 32px;\n",
              "      padding: 0 0 0 0;\n",
              "      width: 32px;\n",
              "    }\n",
              "\n",
              "    .colab-df-convert:hover {\n",
              "      background-color: #E2EBFA;\n",
              "      box-shadow: 0px 1px 2px rgba(60, 64, 67, 0.3), 0px 1px 3px 1px rgba(60, 64, 67, 0.15);\n",
              "      fill: #174EA6;\n",
              "    }\n",
              "\n",
              "    .colab-df-buttons div {\n",
              "      margin-bottom: 4px;\n",
              "    }\n",
              "\n",
              "    [theme=dark] .colab-df-convert {\n",
              "      background-color: #3B4455;\n",
              "      fill: #D2E3FC;\n",
              "    }\n",
              "\n",
              "    [theme=dark] .colab-df-convert:hover {\n",
              "      background-color: #434B5C;\n",
              "      box-shadow: 0px 1px 3px 1px rgba(0, 0, 0, 0.15);\n",
              "      filter: drop-shadow(0px 1px 2px rgba(0, 0, 0, 0.3));\n",
              "      fill: #FFFFFF;\n",
              "    }\n",
              "  </style>\n",
              "\n",
              "    <script>\n",
              "      const buttonEl =\n",
              "        document.querySelector('#df-f845402c-42fd-459d-95de-451e13357ec5 button.colab-df-convert');\n",
              "      buttonEl.style.display =\n",
              "        google.colab.kernel.accessAllowed ? 'block' : 'none';\n",
              "\n",
              "      async function convertToInteractive(key) {\n",
              "        const element = document.querySelector('#df-f845402c-42fd-459d-95de-451e13357ec5');\n",
              "        const dataTable =\n",
              "          await google.colab.kernel.invokeFunction('convertToInteractive',\n",
              "                                                    [key], {});\n",
              "        if (!dataTable) return;\n",
              "\n",
              "        const docLinkHtml = 'Like what you see? Visit the ' +\n",
              "          '<a target=\"_blank\" href=https://colab.research.google.com/notebooks/data_table.ipynb>data table notebook</a>'\n",
              "          + ' to learn more about interactive tables.';\n",
              "        element.innerHTML = '';\n",
              "        dataTable['output_type'] = 'display_data';\n",
              "        await google.colab.output.renderOutput(dataTable, element);\n",
              "        const docLink = document.createElement('div');\n",
              "        docLink.innerHTML = docLinkHtml;\n",
              "        element.appendChild(docLink);\n",
              "      }\n",
              "    </script>\n",
              "  </div>\n",
              "\n",
              "\n",
              "    <div id=\"df-25078201-0d14-4c4f-9a51-4eb43b3ad481\">\n",
              "      <button class=\"colab-df-quickchart\" onclick=\"quickchart('df-25078201-0d14-4c4f-9a51-4eb43b3ad481')\"\n",
              "                title=\"Suggest charts\"\n",
              "                style=\"display:none;\">\n",
              "\n",
              "<svg xmlns=\"http://www.w3.org/2000/svg\" height=\"24px\"viewBox=\"0 0 24 24\"\n",
              "     width=\"24px\">\n",
              "    <g>\n",
              "        <path d=\"M19 3H5c-1.1 0-2 .9-2 2v14c0 1.1.9 2 2 2h14c1.1 0 2-.9 2-2V5c0-1.1-.9-2-2-2zM9 17H7v-7h2v7zm4 0h-2V7h2v10zm4 0h-2v-4h2v4z\"/>\n",
              "    </g>\n",
              "</svg>\n",
              "      </button>\n",
              "\n",
              "<style>\n",
              "  .colab-df-quickchart {\n",
              "      --bg-color: #E8F0FE;\n",
              "      --fill-color: #1967D2;\n",
              "      --hover-bg-color: #E2EBFA;\n",
              "      --hover-fill-color: #174EA6;\n",
              "      --disabled-fill-color: #AAA;\n",
              "      --disabled-bg-color: #DDD;\n",
              "  }\n",
              "\n",
              "  [theme=dark] .colab-df-quickchart {\n",
              "      --bg-color: #3B4455;\n",
              "      --fill-color: #D2E3FC;\n",
              "      --hover-bg-color: #434B5C;\n",
              "      --hover-fill-color: #FFFFFF;\n",
              "      --disabled-bg-color: #3B4455;\n",
              "      --disabled-fill-color: #666;\n",
              "  }\n",
              "\n",
              "  .colab-df-quickchart {\n",
              "    background-color: var(--bg-color);\n",
              "    border: none;\n",
              "    border-radius: 50%;\n",
              "    cursor: pointer;\n",
              "    display: none;\n",
              "    fill: var(--fill-color);\n",
              "    height: 32px;\n",
              "    padding: 0;\n",
              "    width: 32px;\n",
              "  }\n",
              "\n",
              "  .colab-df-quickchart:hover {\n",
              "    background-color: var(--hover-bg-color);\n",
              "    box-shadow: 0 1px 2px rgba(60, 64, 67, 0.3), 0 1px 3px 1px rgba(60, 64, 67, 0.15);\n",
              "    fill: var(--button-hover-fill-color);\n",
              "  }\n",
              "\n",
              "  .colab-df-quickchart-complete:disabled,\n",
              "  .colab-df-quickchart-complete:disabled:hover {\n",
              "    background-color: var(--disabled-bg-color);\n",
              "    fill: var(--disabled-fill-color);\n",
              "    box-shadow: none;\n",
              "  }\n",
              "\n",
              "  .colab-df-spinner {\n",
              "    border: 2px solid var(--fill-color);\n",
              "    border-color: transparent;\n",
              "    border-bottom-color: var(--fill-color);\n",
              "    animation:\n",
              "      spin 1s steps(1) infinite;\n",
              "  }\n",
              "\n",
              "  @keyframes spin {\n",
              "    0% {\n",
              "      border-color: transparent;\n",
              "      border-bottom-color: var(--fill-color);\n",
              "      border-left-color: var(--fill-color);\n",
              "    }\n",
              "    20% {\n",
              "      border-color: transparent;\n",
              "      border-left-color: var(--fill-color);\n",
              "      border-top-color: var(--fill-color);\n",
              "    }\n",
              "    30% {\n",
              "      border-color: transparent;\n",
              "      border-left-color: var(--fill-color);\n",
              "      border-top-color: var(--fill-color);\n",
              "      border-right-color: var(--fill-color);\n",
              "    }\n",
              "    40% {\n",
              "      border-color: transparent;\n",
              "      border-right-color: var(--fill-color);\n",
              "      border-top-color: var(--fill-color);\n",
              "    }\n",
              "    60% {\n",
              "      border-color: transparent;\n",
              "      border-right-color: var(--fill-color);\n",
              "    }\n",
              "    80% {\n",
              "      border-color: transparent;\n",
              "      border-right-color: var(--fill-color);\n",
              "      border-bottom-color: var(--fill-color);\n",
              "    }\n",
              "    90% {\n",
              "      border-color: transparent;\n",
              "      border-bottom-color: var(--fill-color);\n",
              "    }\n",
              "  }\n",
              "</style>\n",
              "\n",
              "      <script>\n",
              "        async function quickchart(key) {\n",
              "          const quickchartButtonEl =\n",
              "            document.querySelector('#' + key + ' button');\n",
              "          quickchartButtonEl.disabled = true;  // To prevent multiple clicks.\n",
              "          quickchartButtonEl.classList.add('colab-df-spinner');\n",
              "          try {\n",
              "            const charts = await google.colab.kernel.invokeFunction(\n",
              "                'suggestCharts', [key], {});\n",
              "          } catch (error) {\n",
              "            console.error('Error during call to suggestCharts:', error);\n",
              "          }\n",
              "          quickchartButtonEl.classList.remove('colab-df-spinner');\n",
              "          quickchartButtonEl.classList.add('colab-df-quickchart-complete');\n",
              "        }\n",
              "        (() => {\n",
              "          let quickchartButtonEl =\n",
              "            document.querySelector('#df-25078201-0d14-4c4f-9a51-4eb43b3ad481 button');\n",
              "          quickchartButtonEl.style.display =\n",
              "            google.colab.kernel.accessAllowed ? 'block' : 'none';\n",
              "        })();\n",
              "      </script>\n",
              "    </div>\n",
              "\n",
              "  <div id=\"id_e0cbdb2f-8e06-4e93-b3a9-29fa5a2aa474\">\n",
              "    <style>\n",
              "      .colab-df-generate {\n",
              "        background-color: #E8F0FE;\n",
              "        border: none;\n",
              "        border-radius: 50%;\n",
              "        cursor: pointer;\n",
              "        display: none;\n",
              "        fill: #1967D2;\n",
              "        height: 32px;\n",
              "        padding: 0 0 0 0;\n",
              "        width: 32px;\n",
              "      }\n",
              "\n",
              "      .colab-df-generate:hover {\n",
              "        background-color: #E2EBFA;\n",
              "        box-shadow: 0px 1px 2px rgba(60, 64, 67, 0.3), 0px 1px 3px 1px rgba(60, 64, 67, 0.15);\n",
              "        fill: #174EA6;\n",
              "      }\n",
              "\n",
              "      [theme=dark] .colab-df-generate {\n",
              "        background-color: #3B4455;\n",
              "        fill: #D2E3FC;\n",
              "      }\n",
              "\n",
              "      [theme=dark] .colab-df-generate:hover {\n",
              "        background-color: #434B5C;\n",
              "        box-shadow: 0px 1px 3px 1px rgba(0, 0, 0, 0.15);\n",
              "        filter: drop-shadow(0px 1px 2px rgba(0, 0, 0, 0.3));\n",
              "        fill: #FFFFFF;\n",
              "      }\n",
              "    </style>\n",
              "    <button class=\"colab-df-generate\" onclick=\"generateWithVariable('df')\"\n",
              "            title=\"Generate code using this dataframe.\"\n",
              "            style=\"display:none;\">\n",
              "\n",
              "  <svg xmlns=\"http://www.w3.org/2000/svg\" height=\"24px\"viewBox=\"0 0 24 24\"\n",
              "       width=\"24px\">\n",
              "    <path d=\"M7,19H8.4L18.45,9,17,7.55,7,17.6ZM5,21V16.75L18.45,3.32a2,2,0,0,1,2.83,0l1.4,1.43a1.91,1.91,0,0,1,.58,1.4,1.91,1.91,0,0,1-.58,1.4L9.25,21ZM18.45,9,17,7.55Zm-12,3A5.31,5.31,0,0,0,4.9,8.1,5.31,5.31,0,0,0,1,6.5,5.31,5.31,0,0,0,4.9,4.9,5.31,5.31,0,0,0,6.5,1,5.31,5.31,0,0,0,8.1,4.9,5.31,5.31,0,0,0,12,6.5,5.46,5.46,0,0,0,6.5,12Z\"/>\n",
              "  </svg>\n",
              "    </button>\n",
              "    <script>\n",
              "      (() => {\n",
              "      const buttonEl =\n",
              "        document.querySelector('#id_e0cbdb2f-8e06-4e93-b3a9-29fa5a2aa474 button.colab-df-generate');\n",
              "      buttonEl.style.display =\n",
              "        google.colab.kernel.accessAllowed ? 'block' : 'none';\n",
              "\n",
              "      buttonEl.onclick = () => {\n",
              "        google.colab.notebook.generateWithVariable('df');\n",
              "      }\n",
              "      })();\n",
              "    </script>\n",
              "  </div>\n",
              "\n",
              "    </div>\n",
              "  </div>\n"
            ],
            "application/vnd.google.colaboratory.intrinsic+json": {
              "type": "dataframe",
              "variable_name": "df",
              "summary": "{\n  \"name\": \"df\",\n  \"rows\": 4,\n  \"fields\": [\n    {\n      \"column\": \"cgpa\",\n      \"properties\": {\n        \"dtype\": \"number\",\n        \"std\": 1,\n        \"min\": 5,\n        \"max\": 8,\n        \"num_unique_values\": 4,\n        \"samples\": [\n          7,\n          5,\n          8\n        ],\n        \"semantic_type\": \"\",\n        \"description\": \"\"\n      }\n    },\n    {\n      \"column\": \"resume_score\",\n      \"properties\": {\n        \"dtype\": \"number\",\n        \"std\": 1,\n        \"min\": 8,\n        \"max\": 12,\n        \"num_unique_values\": 4,\n        \"samples\": [\n          9,\n          12,\n          8\n        ],\n        \"semantic_type\": \"\",\n        \"description\": \"\"\n      }\n    },\n    {\n      \"column\": \"lpa\",\n      \"properties\": {\n        \"dtype\": \"number\",\n        \"std\": 1,\n        \"min\": 4,\n        \"max\": 7,\n        \"num_unique_values\": 4,\n        \"samples\": [\n          5,\n          7,\n          4\n        ],\n        \"semantic_type\": \"\",\n        \"description\": \"\"\n      }\n    }\n  ]\n}"
            }
          },
          "metadata": {},
          "execution_count": 4
        }
      ]
    },
    {
      "cell_type": "markdown",
      "source": [
        "# Algorithm:"
      ],
      "metadata": {
        "id": "vOepEkW7kaza"
      }
    },
    {
      "cell_type": "markdown",
      "source": [
        "## 01 : Function to \"Initialize parameters\""
      ],
      "metadata": {
        "id": "OfnmzrFukdRQ"
      }
    },
    {
      "cell_type": "markdown",
      "source": [
        "* Layer_dims : A list containing the number of neurons in each layer, including the input and output layers/ Architecture of neural network.\n",
        "* Parameters : An empty dictionary to store all weight and bias matrices.\n",
        "\n",
        "* initializes w = 0.1 and b = 0\n"
      ],
      "metadata": {
        "id": "b3xMsdA0ld25"
      }
    },
    {
      "cell_type": "code",
      "source": [
        "def initialize_parameters(layer_dims):\n",
        "    np.random.seed(3)\n",
        "    parameters = {}\n",
        "    L = len(layer_dims)  # number of layers including input layer\n",
        "\n",
        "    for i in range(1, L):\n",
        "        parameters['W' + str(i)] = np.ones((layer_dims[i], layer_dims[i - 1])) * 0.1\n",
        "        parameters['b' + str(i)] = np.zeros((layer_dims[i], 1))\n",
        "\n",
        "    return parameters\n"
      ],
      "metadata": {
        "id": "q9YcjqwHkYQZ"
      },
      "execution_count": 6,
      "outputs": []
    },
    {
      "cell_type": "markdown",
      "source": [
        "![image.png](data:image/png;base64,iVBORw0KGgoAAAANSUhEUgAAAUYAAACaCAIAAABaPnZHAAAgAElEQVR4Ae19fWwTV9b3/FNp/1n0SDzZrlTEW6moaZ/VSiF6otI1iK+QdjF9XpLQOAScOrvblo+4yaZL4gUnkCV1SJtgaExS0id9IwLZYgNyzBRiHEzBZKNUTs0uBFnEsGqIJptk18xa/mO6K3beHZ9wMxmPx+NvO5nIgjt37ty599z7m3Puueeci9HSn0QBiQKLiALYIuqL1BWJAhIFaAnS0iSQKLCoKCBBelENp9QZiQISpKU5IFFgUVFAgvSiGk6pMxIF4gxp8tlfUVGRQqni/IxGI9yX6J5MClAURZIkRVE7SwvLlQr2b2dpocFgkAYlmcOR6HfFB9JjY2PGwF+xphl+OElbvAt+OEm32u/CXYPBAOUT3b2lXL/H4wEitzRV1de+XV/7NuW1+qdx9o/yWt2j3XBXGpTFMVviAOlypaKy83yr/W6r/e6lqTkYX5qig3/mmbm7XS4CyhcVFTkcjsVByrTqhVqtbmmqGrK1DdnankyaAcZPJs3BP9+UxT+NA7ahfLlSgeN4WnVHaox4CkQPaeDMGxUqi5fun6XNM8wvGMa8OVDYPEPjJF3XZy3WNEtzSPyYCZR0u91Go1FZkgcw9k1ZfFOWYBjz5kBh35SF8lqvmZsq39tmt9spihJ4nXQrDSkQJaTHxsaAM+OkWBjzYvvSFPM5uDTFAFun06UhgTKoSR6Pp+P43iFbG+W18oJWfKZ/GvdNWa6Zm+rrDmQQBaSm0nTkpiYkSdrt9srO8zgZAVsOhWeUD8DW6XROp1MamEgpQJKk0+lsadxJea3i2XJYhIO4Xl93QFocRToiKSwfGZemKKqmtbOuz2rxxsqcEZhRwjxDd7kI5mMhLeQinBEtTVWm3obYmXMwyH1TFvdot6m3wWg0RtgoqXhqKBABpEmSLNY098/OicoIinFMgP6s1X5XmkAipwNFUfV1B0DFFQzIeOX4p/EhW5s0KCIHJbXFxEIa+HMc0StQlcXLLK0lXi1mZrQ0VT2ZNMdR2A71FZBQLWY40qGMWEgrlCoBEMb9Fk7SarU6HQiUzm1Qq9XJwTPgnPJay5UKSQeezlNCrHrM6XTW9VlBgxV39PJWCOtqSQcuMHvGxsY6ju/1T+Oh+GqC8luaqgRaJd1KOQXCc2m3213ZeT6ZeAaQwy63VqtNAo1IkkRvoQJ/6FLgFpRJCdciCKKlqSoJ8jbnuwBvlAQoND3SMBEe0gaDodV+V7wZCS/XjS7T4qVrWjsJgkgs4fwTe5//T9OMD97y//4vhsn0YGDxZNL84+W/mkO1f+JU6dbGkQfsxtjaKnZ9NpB8awyj0Thka0s+pMGCpeP4XrfbzaaDlE4fCoSH9EaFKnZ7kuggbZ5hzMKToGjtrs7Zd/G7wKg8eH/T63K5vH+WuXo4eLT80CUGsb5HH36wAcOWz0PaP2Frq8AwLCWQLivZlIgtKw5P5r2EbS29Xp8+k1hqCZsCYSDNmPvGbB8WHZ7hKYuXLtY0s6Vfduvjlf62/0jRkRs0Tf/zxkfl7bdsbRUqCyOKD9ZtPXSRMX355tzvDl10DtbNc+mpwfby9lt/+bI6+ZCu1Wh5wZa0TP803nF8r8fjiRf9pXriSAEhSIPVZ0pEbvQVAD1ZwnmCe6BYybAdW1tF6xADbED4yT2ll+//C5GbDWnITD6kCYLoOL43aejlfREwakl5iSZGWiWEIO1wOJKs6EZIZidwki4qKkow1R4cU5aZZnzHlGVumqa81h0ldR7P0I6SOvaSMR0gnSpFNwfblNdaUrg2wYMiVR8NBYQgXdPa2eUi2OhKSbp/lrE8SbSZsaVBebr3umpPO1DxmLLsq9Mnyg9dYhM1HSCt0+nco90pUYyxUQ1OHZI5EHt6pElaCNLgOBkKxrFsa/EK86HcM0H2NhgMCSXZP298lLOutLz9FrzF9XnZi9hzrUML3pkOkC4pXJsqxRgb0pCu1SRji3HBGEgX4SgQJaRNMz6Gh49H47yB33MduujkoJrxnebLvzTF+Ht1uYhEQ5ryWl/EnutyzW2YuUe7MWw56L0RDa9Wvjav8Q7kJn8tXVK4FsxL2MAGJ2fkI83BXrB7FvhOcoqJueSEUpAgjeZG+iRCQlqtVofizwC/jdn/0TU+F/yA7csBaU4OVAUxDz411b72m2G2It08Q1/4s2vL6lfWNPb//m88nwnzTDI2qDl6dc4lTdOMEcrCoePYpSy8Gf8rnU4HFqCPXc1vbdjuHu2Gy4eDR9/asH3Kf97WVnHGcYUtlj92Ne97c7Xl/oLME8qXGvBedjExeKa81uHu3e8YPpqdvgzvNfU2jI2Nxb+fUo0xUCAkpAW2rwDSW1a/0vjoH6dwvNV+t6a1c9dnA13jDKet67NqvrxY09q57+J3Fi9tmvHV9VkB/KdwvK7PqizJW7FFgxg1U9s3V3PWle4sLQwF6f5ZurLzfMJtTmKgY3IeRdtXj13Neavy2ZDOWb7OSVyF6GKATwg/9HS0fvfqFwDSkOObsjRt/kED3ssOQoYMSyGTXQ9C+3D3bgzDEKT907ipt0Fi1MkZevFvEYJ0KKdoNqQ//GDDii2arnH6ww82yHS3LlzvwDBMprt1CseLN7+sspBnfXfyVuW3DjExiRo/Li06cqPx49LXfjPMFgG6XETXOG3qbRCGtEwmky/tPwxbDqwVQRpQ+nDwaM7ydcClT+FMwMAnk+b2/T8rK9lU+d627OxsgHR3dQ7kFG9+GSDt+rxsZ2lh8eaXm/t6/NO457a26mBF5XvbSgrXNvf1IDbum7K4PsnfqFAN1m1FkH4yac7NzcUwTK/XB4kv4megVDLOFIgDpLd3/xUn6QvXO/J2nbtwvWPZ+qMMu36Wc9Z3p3TTLyGn8ePS7d1/BcGb871g+Hk4SGPSH4YhSG/8UXZLU1XH8b2m3oaWxp3Lfpg/5T/fXZ2j+fIiNdN1cPOK5r4eymt1fV6GYZjl/pXu6pxiTfPs9GXv5fcxDGvAe4e7d+esK2V4+0zX+5teP+O48sevFMuwn1ruX3k6Wr9l9StscR2W665P8hGk/dP4NXMTGhMcxyUxKs7ojKq6OEBaZWHifvbc68nbde6M40qxUg8RxS5c71ixRXPhzy4xkO6fjQDSBEF4lswfQRBGoxEhB0E6b1W+qbcBYnp+238EuDRA+ulofUFBgZO46puyPBw8unv1CxeudxyWvYogCoJ3d3XOO4aPoELXJ/lrD7X88SvF+nePPZk0UzNd+95czVmW+6dxDqRNvQ144A+aJ5PJJPuTqGAYz4fiD+kVWzQQ+pcNaSR4h+LSwpC2eOfW0kVFRRiGFRUVLR1Jz+l0AmAcDodWO2cKyha8/dM4ErwB0t7L77+1YbuTuPpk0gxr6QvXO36x6ieQ82TSDOqxq5WvZW97o/K9bfBr7uuJAtIQK85ut6vVamhnrUYrBZCLJ0YjrCskpIuKithKafbSl7OW5nBpDFu+7+J3phnfO1ux7d1/vfBnV8HyVZDz8xeYnE9Ntf/nV9c5lQtDGm1iURQlk8kwDCsoKIiwpxlZfGxsDHACvisKpQrWyQjSSOPN4dIymcxy/wrltSIufXDzijOOK/A4cGnX52WMlO61ol9EkH4yadbpdOjbSlEUai2GYWq1OnjLICPHINMaHRLSNE0LmJrg91y1Gm3jo3809/W0DjFbWefuf13ezqjHctaVFmuaNypUKgtp8TK7yufuf61Qqoo1zZWd51UWEr/nYs5wab/FNlYxz9BnHFd2fTYQvIkVvC9dUFAAqEbzKdPILqq9DocD8Gy329EDYGry2NWcs3wdW+O9YC0dWEJnb3vD1NtwQvkSrKVheXzhekd3dQ6spR+7mg9uXtGA9w7Z2n7+ArO6jhTSvOpuJFZgGKZQqlDLpURyKBAlpEG0hjUzMhoBldiy9UfhLkIsOmQDNqvhEt1F/N88wx+oMBjSFEXJ5XKQwJNDpuS/BQGD41uKrMdMvQ1oe+nJpNnU2zA7fXnI1ubxDEGQ/W/7j5h6G66Zm66Zm2anL4N8buptgBW4e7SbnXPhesfs9OXHrmY4ncM3ZRmytQVbnj4cPHrhegfShPNCmqZpp9Op1Wrhe6RWq2OyG/VPGJr+F8wBKIoClzgYDo9n6HTvdTQ04yMD8wb5/omWpqpajRbZDqFiiz4hBOliTTPCm5gE7DCXH7oUnVVZqFeA13TwtFjEvBrx5+Be19cdAGEb4QqADZfs4zUgbCg6QwOegm1ndjGUw66H9xXsAoB5zucmGC2wywXYjlIf7nv0i1U/wSHqjH/ihPKlFVs0gHDPbW3ernPw0iFbG4Ytn4tj4Z84LHuVAbPv0THVmq7x4HYt5hwhSEfhiQUcOBQ4o8sP5YlFURTSli2mIUL8ORjPNE1nlicWSZI4jgOkV65cGY1Vr3+iuzoH3NcfDh6tae08piy7NMUM+GDd1lb7Xdo/4fq8bP27x/bK8hGkr9n/BLC3tVWAn+ximiHCfRGCdPKjCIbCfCgBj6ZpkMAXjbZMgD/DQMIpORwWzZbAk5YWf7YORVEGgwE4NgA7Is3Z1GA7wNLWVnH5/r9sbRUQgqblf7Y6HvydpmmmtkAYKRRtCqx3x0cG3t/0OuBfGAaL6a4QpGmaLlcqODYhoVCXoPywUU3YvDrTtWXC/BlNO2QWmjT0cl4UXVQTNFLAtMUbh/umLMVKJhrcMWVZ/2wg8gzj9PpggTd7EKTpyZsGg6FWo71m/xMi3VJIhIE0RVHFmuZUoTpYMRZqSIADZDSvDsufUd8piqp8bxvbE4sDuURfuke7o4szAxtdK1euxDBs5cqVBQUFor7C/onflr7rcDhUe9oD4vQD1Z52JlAUhIUDugRDOpD/zxsfrdiimVebISIu3kQYSNM0rdfru1wEUmsniBvzVgveGmI+5waDAb79crk8IqEuTUYW8Wf2fpVA2wwGQwojhJp6G2I0JmHbw4mJ62xrq6ivO4C82U/uKT2mWrPAm50Nad8jtJb2T+O5+fslSC+YSxCBLPmMGva0ypWKBa0JfYFQHeNsC/2GRN1BeA6rQEYtYOJ4N+5E7lOJZsvs+v3T+M7SQtSSqBMej0ehVMGHWKFUCY/aw8GjGIYh3XXAJ2yhNzsb0v6JvbJ8WGbb2irQhyDqpmbWg+G5NE3TeMCDMsmMustFCGjFeKmMvv0ZFLwSydsi+TPquMPhMPU2JB/VLU1VoqRl1FDBBEEQOp0OgJ2dnR0yHJXvEdqdpmna4xliX4Iy7KvTJ+a5cWBfWq1WQ4BXwSYstpuiIE3T9POyrRwTTl5ROV6ZUZ90p9frMQzLysrKCFRHwZ/ZE5BZi8Z8OjybAwun4aS7aDai2I3mS6NvMYZhYuRwvjqkvDkKiIU0SZI1rZ3xQqxwPf2zTET+qKcOmh9pjmq73Q7cKVL+zJ68cHKlMBTjctc/jUetFWM3WCCt0+nAgB/DMKPRGKVpisALlsYtsZCmaZogiGJNM04yZtvCmIzlbox4hlFLf16N+DOvPYn4uQeHY/EGIYkLkqGSJOAZukwQBDJNyc3NzURNp/ixS1DJCCANe/pyubyuz5oIbRlsWcXCn9k0Qrw6DU9vigt/ZndWLpebehsSJ4QP2dqi27ViN1J82uFwgF0geHSlubQlvl/JKRkZpKFNdrudOdI9rgfrgBdHTWuneK1vWAIhHXhaoTpe/JnTfafT2XF8b3Aw0Fh4NZh/tzRVxXFQOM0WuMRxHMnher1eArYArdi3ooE0TdN2u10ulyN/rBglbfMME+EgEUecIl4tZnObTZcEpRF/jlHe5m2e0+mUy+XgYhULkpGDh6m3IS77VbytFZkpk8nANAXDMI/HE0dlu8gGZFyxKCEN/dTr9WBbBn7RUQAbJxlNWE1rZ+IYafrwasSfY9GHhZ1hBoOhpXEnE2zIa43OFJzyWodsbfW1bwvvFYdtSbwKOJ1OtNGlUKoS8TWMV1PToZ6YIE1RFEEQGxUquVzORPkMGJmxI3hzQA7WI7AOh6N5mJNucTzRWhDQlmEYlkJejfafYUYusGecvLnvzdXoPL1vzv2OsY7wT5zcU6pQqoqKitAtZsb4J84crp/fgOWbRARBqNXqnaWF4PMMIftD7WCDDybchZgKZSWb0lDhTJIkuNNC9IsUDiUfydMoLyZIs/thMBh0Ol1l53n44SQTY5D9w0nm0Ay4q9frdTpd0nYg2QF0EicOsKnBSSM8z5tSuAdy1pUCMqcG2yvf2zZnseyfaN//s0MXncPdu8FXgXYP5K2as4Wi/ROdx3fMOwZzXhN0aTQadTpdx/G98APFOKyQ4V/Ka3WPdsNdGJR0jgcIHl1ZWVmw+ZcEZhBE0VgzjHx/8VUTxA3S0FePxzMW+NuoUAX/DAaD2+0eGxtL/orI7XbDPEjadwQNPsLzQonxwV5ZPrBfS4PyjOPK/jLNncmndMDj3zTjIwgCCS9XK19jrKACnsPlhy61/M9WthchelGoBEEQY2NjHo+npHBtWckm9q+kcK1er0/VoIRqsHA+QTCnKcFoFhQURG2/IPyWeN2Fqa7VahVKlVqt7rnXE/xTn1KDOAbYjhEdcYZ0vAiRiHo8Hg984JO5H4P0YfP8+VnfbG0VANTflr57Z/LpqdKA9+/kTTjp+lkpmvY9Kli+aj7gjn8iUkjPV7WIUkajEZmI63S6NJTDcRxvaaraXrN9e8322/TtEXpkhB4Zpod5f3C3+otqKB+LALKEIB2wDfbA1z05uzJIH4ZhPHR+OHi0vP3W7PRl8Bl0fV526KITMueh53t0QvnSAscDCdLPqMOOSZqVlZWIHZNnr4rsf7fb/daG7T33ehCSb9O3xfyG6WHAds+9nqqDFdEtgnimWmTNz7TSBEEkh1eHt4LyPVLtaZ9ThtE07R4oOnLD1lYxz5Anbx5TrYEIHvNkliA9T4u5FBKFwDQl6H7yMkiSrDpYUf1FNTBkMTDmLQPYvk3ffkX+SrB8J9yfJQfp5PBqtH7GMCykrbJ/or7uwMk9pXMK7cmb+8s09XUHmBU1zcjbPHgOaLwlwTt4TjudTnQ2gFqtTug2YfDbUU7VwQrgzLxAjSJzhB5pGWiJqDtLEdKAauDViVCuIP6cnZ2NVFxo1NmJ4e7dy36YP7cj9Sz8JXMZ0IQVHbmB1I3z9Uhcmk3BhWmSJLOzs2FthWHYPNEWFkvElcFg2F6zfZgejgK3wo8AquXlYmN7LFFIs3l1fFGN+PPKlStD8mc0pwLxN9DV+MgAOO5TFDU+MsDe74B8cAx2OBzC+9KowiWYYB8hlpubG9/BDUVPg8HQc69nhB4RBmfUd0GjVnWwIvyMoumlC+lEoBrx56ysrGSyiFBTbcnmUxSl0+kgIl12drbRaEzccACeE8Gfgz8B6lPhjyVa0pCOO6pB5MvOzhbzNV2yeEtax0mSRI4fYCIe91cnE8+36dvD9HDYM4mWOqTjiGpkhxyjqUDcp91SrpCiKIfDgWKSKpSq+I7O9prtiZO3g7n0MD3cMtAirAOXIE2z40tHbYUC6lbJaz9tPx9GoxH5YMdlgQ37VcmRt9nYBm2ZAKolSDOTkKIo5BIQxaRER7olbsEWRaukRzgUQCcZw5GaMVr7OxyOloGW5EMaNskExG8J0vPjDl9xuVwekWwm8ed5CmZCyu12o09wQUGBALsT7s0r8leSKXKzGfUwPdxzryeUBaQE6fmBQ7xa/KkdaHJI/HmejpmQQo4fGIZFIYcnWSvGxjNKVx2s4OU9EqS5ExAkcJlMxksvdmnEn8OWZD8lpdOHAmq1Gh2Xa7fbRX6XYRWdKhYNkAY9GW+MCgnS3AmGzqOXy+Xce6xrwLO0/8wiSUYmPR4PimYll8vF6EdxHO+515OSVTRi0bCi5g0jJUGafyKiM255OTDgOTs7m/cuf41SbhpTAMdxpA/XarXCMQmMRmM6QHqYHv63i0iwZCFBmn+ioZ2toqIiTgmEZ8mehEOZTL/EcRyZiBsMBt7xpShKYC8aeUcKe2KJ5/BgCspmzigNSrJgRYAEaaF5CF9utrYM9GErV66U+LMQ4TL2HsfgjCCI4IEOBelhenjQ3Vp1sEJeLleW5FUOWRH8OIlPTbVnfXc4mcGXw/Tw139qrByy8n4CJEhHOcsA1UVFRRRFIX1YsLQTZe3SY2lJAYfDgfYyOK6aoRbSgOeSwrWVQ1bQnDV+XKr58iLwbcAkpG99fzJvVf5Z3x2IdoCinYC9J9K6QeLEZ/maLy+izGDYN/f1cD46EpcOP6cA1chamEPB8M9LJTKTAiRJohDiMpkM5HCFUsULsGF6uPP4DgQ/QPhbG5gQRSc+ywec3/r+pLxcvr1mO4Yt36hQDbpb1afU8nK5vFz+juGjEXrk1vcnFUoVMPDGj0vVp9TFm19+Xra1Ae8NBjNoyNSn1JwFggRpUdMNueAKK05E1SUVyhwKkCTJ3sG22+0ymYzXj9L8/dnizS9zhOQaZdav71oRp731/cnc/P3m78/mrCs967tzyVa6DPvpr+9ap/znP/xgQ+WQ9db3J+HWbfr24XpGdEfPSpCO56xBMhiGYTKZLJ5VS3VlAgUIgkCh4OHjHqzxNn9/Nnj9zIElIJYN6bWHGJPSEXrkkq0052BjKEjzrqUlLh3l3IH1c0FBAXK0khh1lKTM5MfYn/Xs7OxgSN+mbwOk2fAr3vyy3mtDnDYY0u8YPmJDGqGdw6XZdbLZ9Qg9IgnekU0rwDMKeQMyWKacRx9ZV6XSIShgt9tRdGGtVltUVMS7sQScdu2hFti+GqFH/jDTlJu/f24t3XkecnLWlSLcXrKVIi7deXwHcGnQnEmQDjEasWUj/TZbH4YsjWL044mtadLTCacAO6IwBB6FaVBUVMSrHgN99YnP8tceaum518MI0oEFM2xE5awrPfknw4cfbHhettX8/dmC5asa8N5LtlIMwxrw3k9Ntdnb3gCtmLIk7x3DR5+aal/EnoO1NFTIZs7sdHCcE0k9xj85AM8rV64M3q9C+hIJ1fy0y/xcHMcRZ+bE/Xc6ncI+lT33eloGWloGWs767iCBGTJ77vVY7l8ZoUd67vUApHMONrILQ/mWAeaj0HOvB0AOl2wYQ1ral45gogGeBew9Ea9Ow0MeIuinVHQhBUiSZB+fFup0nlCmJghpwZI55KB8tH5e/+4xdIvzOMAbPSJBeuFYRXKF5O1g/syuRuLVbGosgjT7RB4Mw/AQB6oKG4QGAy9UDmxcn7v/dagCYfMlLi1q1iF5m71+DvWkxKtDUSaD8imKcjqdbJMSg8EgPPqhDMjCgpBTQIADc0ryXo7QI+VKRTCppbX0PE0AzzKZTJg/zz9A0wjV0rqaTZZMSRuNRnC5g91mo9EoDGboV9SQRno1ZAoKWBX28eDFM2xKB/sU0Us8jjd75gGeMQwTM6jsBxGqpXU1myxpnqYoClmPRBHoW61WI3yGglxwfuPHpb++y/hyHK7PAztQUIB9aqrlmJ0FP8vJgR1pXhMJiUszcw/hObrTD9GXXuLVaY5kmqYJgkAnKER9HEekjBq2smAX+nB9Xs7BRrSPDYvqnaWFAG8OdAUuW5qqeNmPBOl5PEd9mrzHM3fGbYLiv6c/TjKlhTqdDrnf4DjOcXiIqBeRhhM8XJ8HLBpMxEfokUF3a96qfNB+dx7fEco3IxjVoBjDcZy3wUsd0og/R41nIGtKzqPnHVEpM5gC7IOy4nVgbdgNagTFYXrY/P3ZtzZsBz4Mu1M993re2YqBvM3m2OgpgcQIPSIQRWtJQxrhOTp5mzN1EK8OFY2VU166TA4FtFot4swYho2NjfHKq5E2hqIorVaLjEkEEDhMD4MPFlu07rnX86mpdqNCBYquP8w0IR8sgaqgcPUX1QJLvKULabZ5UKTDGao8QRCwHSImKl2oSqT8uFCAIAhkOwCcmTeeZozvkpfLw+rJhunhP8w0rX/3GJQE/TZ8C2qUWciVOjd/PxvzvMCGwKDCx00vUUgjPMcobwdPCIIgYEckOCgUu/D4yMDp3usUZPketTRVzR0cT9Nwa66wf8JoNKKjZ8dHBurrDqjValSYXaeURhTQarUoiphMJos6/j6qMFQCQgsKo5rDpRs/Zpyl4ZFjqjW/vstEQRHJpUfoEd4QguzmLUVIkyQJqNPpdGxaxCstZl09Ndiem78fsDo+MlD53rbyQ5cYhPsn2vf/bN/F75jG+Cc6j+/48fJfQTH3aPeyH+abZ2jaPbBl9SuHLjrj1eDFVI/H40EbEAqlKgk7i2JQfZu+XVK4FpD8qam2WNMMgnexphlkafCX5uXM7MyqgxVhB2vJQZogCIjGHnf+zKY1WleH5tUP3tqwHZitra3ijOPKjpI6Brq+R4dlr+IkkzimWqNQqko3/RIg7fEMoYPj//Jl9a7PBuaYPPvFSzg9NjaGfNqLiopCKYQTQSGj0bi9holJJLC0hnAIoN/+1FRb/UV1ywDjiQmIhagmbPSy01BtWP4MXVtakE40f2ZPl7CotjQogdMeU5bdmXx6qnQrg1jfox0ldYBVxoht8iaCNLvyE8qXDl10SpAGmrDDehYUFPAaYLCpl4g0SZI6nQ5YLhuNkIbN540KFYCT7aoBW9bArnkfhPUzr+0nb0eWEKQJgoD1VUL5M5vKCNW82rJ/3viovP0WTT9Q7WmnaNr1edmhi86Hg0cDmc+q4YO06/OyFVs0dyafPiu0dP93Op2IM2MYlvK9hpamKvWpkIZloWL9gh9lMIcHN0z1KXVEy4f4Q5rk+4vLtkEsM5ckyaysLAzDErR+DtU2hGoeCXzypmpP+9RgO2B4arC96MiNv3xZ3Wq/O19bEKQBz+Kt0FFVJN8fuptxCThZFsY0KytLoVRFQZO495qiKI/Hoz6lBnbNQSnnEvHkYP8NEMjheMpI7WHiBmkcx42Bv2JNc/DPYDDA3ZRgmyAIGPuk8Wf2XCgHlD0AABOSSURBVEHmh9yviX+ivu7AyT2lrUOB4pM3d5TUndxTihbMTC4L0hRFuT7JX9PYH9HcBbIbDIb62reDf3A35cyNTa6waXaQbTh3MtJJH/YVMRYgCEKn01V/UV39RTUsnhF6hRPInYNZaTdVRTcusUIavEzLlYpW+134Wbx08K/LRcDdWo1WoVTxepDESMdQj5MkmWR5m9MSdG4eVzIMKLRzlq+zeANPBPRhSA0+VwkL0g8Hjy5bfxTWz2G/jEBntVo9ZGsbsrW5R7spr9U/jbN/lNfqHu2GAgqlSqFU8S4QON1J4SVJkujkKthqTsmyWSQFxsbGGPV7IEw3QjJaRbMT6C4K6+12u8MOcahmRAlpkiTtdvtGharVfhcnGQybZ+Z+l6Zo3h8UALTjJL1RoTIYDInY/Wd3Fe0Sczkku1BS0uxTO9ALF+xOc3akoZDvkcFgAI33N+d+p9Vq6+sOwNZ0q/1usHrM7XYbjUZlSd6TSTNg2Ddlgd+TSXPwD931T+OAcGVJXozGz6h38U0gUz9YPUUkqsS3JVHUptfrazXaWo0WwhJx/m3u66nVaNVqdVw6FQ2k9Xp9TWsngNk8ww9gXlSzM3GS7nIRdX1W3gM1o6Ba8CMp58/sJkVxHj37cTHpoqKijuN7h2xtlNcajF4xOb4pC+W1DtnaWpqqajVaMS9NQhl2JDCtVitgC5mExsT4CgffX3wXDhFDWq/Xd7kIYMtsiEaRNs/Q/bM0TtLFmua4fJ/Y5E7mfhX7vcJpsIIQcx69cD2cu3BeF2LLYtArUMY3ZfFP408mzfV1BzgvSuYlJxJYXOzwk9n+VL0rAkg7HI76ugNdLqJ/NkrOLAD7mtbOOMrGacWf2UOLzrgV8KRhlxeTNhgMLU1VAhCN7pZvyuIe7a6vO5BMmw3UX3YkML1eH9EuDqpkaSbEQtrhcNT1WS9NMQtmAWTGcqvLxegJYx8GxJ/TVtmDzs2LWgWCqGQwGIZsbU8mzb4pS3TQFXgK6rxmbopO9YoaKT5BkqTT6QRzXQzDQsXoFF/hEiwpCtJ2u72uz4qTiQIzfAj6Z5nVdYyoTr49SRSThs2rY0E14BmEZAFkxnjLP40nB9VGo5Gt0A4VozMKgi+pR8JDGvhzIoTtYJYeI6rTnz+z5xbi1exM8Wmj0Thka0s0nuFzAKgW9ukT33JOSYqiHA4HO0anyLB+nHqkS6BAeEg/L9uaaP7MwXZNa2cU2jLkq5wSe5Lo5hP4eMrl8kh5NUEQLY07k4NnkOrdo92JWMiwzbNXrlwZLOGTJMkgPEBfiqLGRwbmTXF8j073XqcDm3+GwN/8Lf/EV6dPGAyG+ZzoRigDnwoDadBvJ279zAEzuizWNEdETGQfFqPcHtFL41I4Ol6dCH2YsHwO6+o4kpeiKJ1OB1ZAQjE6fY8Klq+CnXnaP9G0+Qd5u84Bwj23tXm7ztGTN9/Alne5iKnB9px1peDcdqp0a6v97vjIwL43V1+aistAZUwlQpCGJXRyRG4EZkjgJC1+vzp97EmiG3bQBhUUFIjk1bUabYL0YcKo9k/jQ7Y2HmP1CLvNjgQmk8nCVOif6K7OUVlImqYfDh6tae0sVyoApYN1WxlXtsmbyHX8L19Wr2nsp+kHp3uvg6Bna6soOnIjwgZmdnEhSBdrmjlIS9pl/yxd12cVY1uG5O04MpAkDymKp5Obmxv21R6Pp+P4XmHsJfRuS1NVFMsi1C+tVgv+6gKH1KDCkLC1VYBni62t4tBFp6VBCVbxh2WvcuTqwbqtC9zIfY8Obl7RNc6pb5FfhoS00+ms7DyfEhYNW2VdLiZ2lDD5EX9OxDJP+NXxvYvi+4c1WgatWCK2rMR8CKLWk3k8HtRHMM8WHzzoyaS5WKmnaPqYsqx/lkZOqTtK6tgepv+88VFu/v75nMmbarV6/bvHOLCP78ClYW0hIc3EhUjwrpUwzwc7cAGSpa09iUCbBW4Brw57Hn3x5pejtvcUA9qwZSivtaCgQKAjwbfUajXizFlZWZHbjTz4bem7Hs8QOJZTXuucUyqEdgq8D/AcjN5/3vhoxRbN3FI8uGWLMYcf0kajsdV+N/laMQ7IcZIO5bOF+HNYTp5Bo4bcMENNeoVSlTQtdyhsg1WZmGWOx+NBa4oYY3RaGpRnDtej4BDHlGXHVGvmIrQFokcsiAnhn2Ai+wYGnvJaF7DuDJoN0TaVH9I4jqcDpC1emjc+C7InETOxoqVMap5DGOB1TgDFWCiwJScfIB32S6rT6dBWc0FBgXgxm5fuDwePvog9h1bFw927MQwDJdnDwaNcPux7tPFH2cCx//JltUx3i7fOxZrJA2mSJIs1zRZvYm3FOAyZ99I8Q7fa73L2Khclf2ZPL7Tm5PBqh8Nh6m1IOZd+Mmn2T+Mdx/eGWvZ7PB4UCv/f4RB5v03s/opK+x7tL5uXn8dHBkAIp2na1lahUKrKlQpw+YaQbOMjAyf3lJYrFYixi3rLoijEA2mKonghbZ5h/KJ5sRc2E5yl2cX6Z+cjJYSS8IMhjfTbGMbT8kUxIkwnEK9moxpBmr2WBndIgFmwzsw/jXMyg3PC8nZ4BdvNKxSknU6nVquFPTmFUpUSf49FMwei7ggPMAiCCNZ1m2do/JurOetKu8YjRjU8q7KQCLr9s3RzX49MJpPL5Su2aLrG+b1BzDOM1Tfi0og/YxgmZn8raqKkw4OIV6Oe4jhja/3Y1fzWhu2AQ9+U5eHg0bc2bJ/yn4fIwWwAPx2tLylca7l/BWU+djUfU605d/9rlCMGz8Pdu7esfqWkcO1Ghco92g2ul6beBtQwmqZJkkQKMJlMFoqBpwNhF30beCDNq+tmQ5odhwh8ntk5wIoRP++fpU0zvsaPS7d3/xVlnrv/NYYtV1nI/lm6pXFn3q5zv/8b/5fC4p3zpkb2YUsBzzDtEKqBVytL8iivlTGZWpXPhnTeqvzZ6cvARSEfQpQ8Ha3fsvoVgDTkPHY1H9y8ogHvBViioEVguAKX7HqeTJofu5pfxJ4742C+C93VORsVqtnpyxAypaRwLU3TnEhgEmdO+SeDB9IKpQphD4nKCNL6Sa9ara7sPL9RoVr/7rGucfrC9Y5iTfNGhUoul8t0t/pn6Qt/dhUr9V3jDJirDlYwd7P/Izd//76L38FGN7hnXJoKhED45mpu/v7GR/9A72InANJjY2MQD3Dp4DkY1ZXvbWNDGlD6cPBo3qr8Kf/59v0/O+O44p/GHw4ebd//s7KSTR9+sCE3Nxcg3V2dU1ayqfK9bcWbXz53/2v/NO76vGxnaWFJ4drmvh7/NO65ra06WLHvzdXFm19u7uths3H3aDcI9t7L78tkMidxFUTxksK16FyLrKyseMXZSTkkMr0B0UC6ePPLMt0tnKRrlFky3a1PTbUY9t+tQzR+z6UsyVNZ6LO+O8vWHwVIf/jBBpWF5HBp5HdtnqHra98W5tI1rZ3IgVatVtvtdnzJ/DkcjoKCAug+gvTGH2V3HN/bcXyvqbehpXEn9l9vTPnPn1C+dArHqZmu3atfaMB7Ka/V9XkZhi13EldPKF+qae2cnb4cyMHO3f96uHv3RoXKSVx97Gp+f9PrlvtX/viVAsP+20lcfTpajz4ESBYANt5dnVOsaZ6dvgxKb3TolMFgiG+onUwHVWrbHw2ky0o2qSykxUt/aqp97TfDn5pq83aduzTFqLtMvQ1FR26EgjTHFs3ipTuO78Ve/WWotTTUyYY0wvYSTCBI563Kh7CeQ7Y2W1sFcGmA9NPResCqfxoHwXvI1vb+pteBtYLgfeF6xwnlSyB+P5k0uz7JX3uo5Y9fKda/e4zh/DNd7296Hf+GYcVopc1w9U/ysf96A9bSkL9l9Su1Gq20bE4tgIPfHiWkW4cYACNIy3S3YFENkD53/2teLs2GtHmGwTMUY+ezpW4E6fq6A7ol/8eGNFr9IsEbIO29/D5A+t+RwwDSF653FCxf9e8TD2FhfHDzCoB09rY3Kt/bBr/mvh6ANLNI5oO065P852VbPZ4hhHPKay0r2RQ8n6SclFOAH9LBpqDstXRZySYOpPN2nWMKkIyuS6a7ddZ358fLfyUgeFu8TEnQdQtHJkTqsZRTKuUNEFCPIcH76Wj987KtlvtXKK8VQXr36hdg/fzY1dy0+QeW+1e6q3M0X16kvFb0++NXimJNczCkgT+Drpu9AUZ5raAeSzlZpAZwKMADaYPB0OUi0IYTsE02pIs3v8wRvDEMK2+/1dJUlZu/H5BcUrh212cDzX09L2LPwVo6b9c5ELDNM4xGDcP++9BFJwroz2HO6KXBpiacDiydS/CR9tzWLvshV+ONIA1LaHm5/Jq56YTypWXYTy33r4BaC5gzhjFr6YeDR/e9uboB771mbvr5C1gD3svLpX1TFu/l95dhPzX1NlwzN10zNw3Z2manL8O+tLR+Ts+5xwPpUKYmphlfq/3u7//GWHQBOPF7rtYhRvwuVurr+qx1fdaucUaJzeD/nquuzwqI7RqfC9kNXwp0Fx6p67MeuuiUIB12foCpyZNJs6m3Aa1y3aPdpt6G2enL3/YfQYLxt/1HTL0NQ7a2a+YmQODDwaMAyyFbm5O4CopxU2+DqbfhwvWO2enLj13NF653gDx/zdyE1szwIJSEfxGkpVV02CFLSQEeSAsYhALrZjNwWFGD4A1gRuCES/QI+y4svPtnGfyz89GzEpcOng0Oh+OauYkt/XI00mihC9vO7EM20EY0OxM2otlPoQpRJmxfoR1syAcuHR9Lz+B+SjmxUYAH0mCQGCx7c/CGUIffc4Vis7yPiM/sn6VrWjsTLeAtCGflHjjdex353H51+gRj/R8IZKXT6U73Xkdn1nx1+oROp6tp7USFYxuI8E+TJJn8+ERIHOAkWpqqRMZgCd8xqURcKcAP6YicK4Ptt8WDVrikgHNlHIng+rwMhcKwtVUwRq8uIlD/g72yfMeDvx9TrYHzIrurc5atPwquAuCyZ2urwF79ZaI/OqizarWazT85MEvOJWxKZ3rMCUTSxZfgh7TH46lp7Qy2IRNGYHzv9s8yi/YkGBg+djU/OxGScbW/cL1jzn3HPbCjpM5N0ziOz7Fi36NfrPqJacY3PjKAmPPVytcaRx4kZ2Ygz43koJf3Lf5p3NTbwPYnSU7fpbeIpAA/pGmaVqvV8YVopLWZZxjrbpHdiKmYf+KtDdsZiLoHipV62veI+ZemmcPcD11aULN7YA2WtyBEhn9i7/P/aZrxLSiWyIuykk28SEtmJq8TeyI7LdUdAQVCQpqmmfNigzeoI0VmdOXBrTIJLBpIZWlQdrmIh4NHGf7se/Tb0nfdAUfcucPcoVAgNt0C/9tA8Mo1jf3JXFWOjY11HN+bKq/pfxul1de+HUs4wQjmplQ0KgoIQTqiFXV00A31FE7StRpt0qDybf+RfRe/s7VVwCra0qC8fP9fx5RlOBNqNvAXOM8dRcZhsgJ4luluJa2R0BAIf51MnozeJTKeCbRT+jdVFBCCNKyok8+oLV6eYCaJJZB7oPzQpTOH62GFPDXYnpu/n4mbQQU03JM39725moPnE8qXUhUBx263w24WAltyEpTXynGTTuygSLVHRQEhSNM0nXw9WXAkk6j6FeFDkzcZX5Q97bBH5Z/GwR4ucPmAHbmOqfcZf47wHfEsnnxUw140O+xBPPsj1RU/CoSBNE0zArDIPepQUnRE+RYvsxedfMukr06fuGb/EyLsmcP1cxFk3QP1dQfUajUTyCoQ4Mrx4O8tTVXsnGebXujphCdSskfd0lSV8I5JL4iZAuEhTVFUrUaLPJwjwmekhRkf7NZOySxJzLAyJ901VVFeaxJ2qimvNcZDNsT0SCoTFwqEhzS8plajbbXfjRSi4suDiWhK+HNc6JiSSoBXJ/RIWlCtS/w5JeMb3UvFQpqiKKPRWNPaiZP8of/Eoze4JOjDijXNEn+OdBThyLhEBAOGaEQdx/dK/DnSQUltebGQhlYSBFHT2tnlIgSCFgQjViAHYoCCB2WSd4NSS/f4vt1ut5t6G5D7VOwKcP80Dj5eTqdTGpf4Dlaia4sM0qADNxgMjKlmzCdmWbyM06VOp0uaSUmiqZnC+u12u16vd492s6N8R4dtymsdsrXp9XpJv53CAY361RFDGt6E43hBQcGlKQaT4CApwIrZt5BDZZeLYfharTbqpksPBlNAr9fX1779ZNLsHu0Gj0iRqGYXLivZhGKnB79CyklzCkQJaeiVVqvV6XSVnecrO89DnLBQnh5wtgZOMqdGQ3mdTpc0B6Y0H4P4No8kSZ1Op9frIYQoxOUOZUAKSKa8Vgg52nF8b61G+sjGd0CSXVtMkIbGjo2NeTwehVK1UcH82DwZpev6rHDX4XC43W7JjycJ4zw2NuZ0OksK15YUruU9Zd43ZamvfbusZFNJ4VqPxwPjmISGSa9IKAXiAGlO+9RqdX3dAc5PWpVxqJTkS4/HU6vRcn5SMP0kj0JyXhd/SCen3dJbJApIFOClgARpXrJImRIFMpUCEqQzdeSkdksU4KWABGleskiZEgUylQISpDN15KR2SxTgpYAEaV6ySJkSBTKVAhKkM3XkpHZLFOClgARpXrJImRIFMpUCEqQzdeSkdksU4KWABGleskiZEgUylQISpDN15KR2SxTgpYAEaV6ySJkSBTKVAv8foMYJTXe1TFYAAAAASUVORK5CYII=)"
      ],
      "metadata": {
        "id": "nNmQyvp4mQuu"
      }
    },
    {
      "cell_type": "markdown",
      "source": [
        "since our arch is 2 input, 2 neuron in hidden layer and an output layer, so:"
      ],
      "metadata": {
        "id": "EesZfeQimZyM"
      }
    },
    {
      "cell_type": "code",
      "source": [
        "initialize_parameters([2,2,1])"
      ],
      "metadata": {
        "colab": {
          "base_uri": "https://localhost:8080/"
        },
        "id": "tXUq2efVmTqv",
        "outputId": "aba15f7c-0883-4513-9e3a-8f96de289ef9"
      },
      "execution_count": 7,
      "outputs": [
        {
          "output_type": "execute_result",
          "data": {
            "text/plain": [
              "{'W1': array([[0.1, 0.1],\n",
              "        [0.1, 0.1]]),\n",
              " 'b1': array([[0.],\n",
              "        [0.]]),\n",
              " 'W2': array([[0.1, 0.1]]),\n",
              " 'b2': array([[0.]])}"
            ]
          },
          "metadata": {},
          "execution_count": 7
        }
      ]
    },
    {
      "cell_type": "markdown",
      "source": [
        "Here\n",
        "* w1 = weight of input layer - 4\n",
        "* w2 = weight of hidden layer - 2\n",
        "* b1 = hidden layer\n",
        "* b2 = output layer"
      ],
      "metadata": {
        "id": "qpQRdVJ6m7Bi"
      }
    },
    {
      "cell_type": "markdown",
      "source": [
        "## 02 : Function to \"calcultate output of some specific neuron\"\n",
        "\n",
        "The function depends on 5 things(acc to aour arch):\n",
        "* Two i/p - A[i]\n",
        "* Two weights\n",
        "* Its bias"
      ],
      "metadata": {
        "id": "yZjH-7RPndei"
      }
    },
    {
      "cell_type": "code",
      "source": [
        "def linear_forward(A_prev,w,b):\n",
        "  Z = np.dot(w,A_prev) + b\n",
        "  return Z"
      ],
      "metadata": {
        "id": "bgIgTtyUncso"
      },
      "execution_count": 18,
      "outputs": []
    },
    {
      "cell_type": "markdown",
      "source": [
        "## 03 : Main function for \"forward propogation\""
      ],
      "metadata": {
        "id": "t1updBE-olus"
      }
    },
    {
      "cell_type": "code",
      "source": [
        "def L_layer_forward(X, parameters):\n",
        "    A = X  # A holds the current layer's activation (starting with input X)\n",
        "    L = len(parameters) // 2  # Total number of layers (since each layer has W and b)\n",
        "\n",
        "    for l in range(1, L + 1):\n",
        "        A_prev = A  # Store previous layer's activation\n",
        "\n",
        "        # Fetch weights and biases for the current layer\n",
        "        W = parameters['W' + str(l)] #as W1, W2, ....\n",
        "        b = parameters['b' + str(l)]\n",
        "\n",
        "        # Prints to understand the flow\n",
        "        # print(\"A\" + str(l - 1) + \":\", A_prev)\n",
        "        # print(\"W\" + str(l) + \":\", W)\n",
        "        # print(\"b\" + str(l) + \":\", b)\n",
        "        # print(\"--\" * 20)\n",
        "\n",
        "        # Perform linear forward (Z = W*A + b), and apply activation inside that function\n",
        "        A = linear_forward(A_prev, W, b)\n",
        "\n",
        "        # Output of current layer after activation\n",
        "        # print(\"A\" + str(l) + \": \", A)\n",
        "        # print(\"**\" * 20)\n",
        "\n",
        "    return A,A_prev  # Final activation (i.e., prediction/output)\n"
      ],
      "metadata": {
        "id": "lsmFalbzmlFD"
      },
      "execution_count": 41,
      "outputs": []
    },
    {
      "cell_type": "markdown",
      "source": [
        "**Doing forward propogation on row - 01**"
      ],
      "metadata": {
        "id": "sBy0k2SeqdKO"
      }
    },
    {
      "cell_type": "code",
      "source": [
        "X = df[['cgpa','resume_score']].values[0].reshape(2,1)\n",
        "y = df[['lpa']].values[0][0]\n",
        "#initialize parameters:\n",
        "parameters = initialize_parameters([2,2,1])\n",
        "#forward propogation:\n",
        "y_hat, A1 = L_layer_forward(X, parameters)"
      ],
      "metadata": {
        "colab": {
          "base_uri": "https://localhost:8080/"
        },
        "id": "Rx2eYmBXqjea",
        "outputId": "4a8ebb9d-07d7-4398-8713-ed25ff439b0b"
      },
      "execution_count": 26,
      "outputs": [
        {
          "output_type": "stream",
          "name": "stdout",
          "text": [
            "A0: [[8]\n",
            " [8]]\n",
            "W1: [[0.1 0.1]\n",
            " [0.1 0.1]]\n",
            "b1: [[0.]\n",
            " [0.]]\n",
            "----------------------------------------\n",
            "A1:  [[1.6]\n",
            " [1.6]]\n",
            "****************************************\n",
            "A1: [[1.6]\n",
            " [1.6]]\n",
            "W2: [[0.1 0.1]]\n",
            "b2: [[0.]]\n",
            "----------------------------------------\n",
            "A2:  [[0.32]]\n",
            "****************************************\n"
          ]
        }
      ]
    },
    {
      "cell_type": "markdown",
      "source": [
        "* Here A2 is required o/p of row - 1"
      ],
      "metadata": {
        "id": "GPk4kvJswjcA"
      }
    },
    {
      "cell_type": "code",
      "source": [
        "y_hat = y_hat[0][0]"
      ],
      "metadata": {
        "id": "NGszeikSz-bW"
      },
      "execution_count": 31,
      "outputs": []
    },
    {
      "cell_type": "code",
      "source": [
        "A1"
      ],
      "metadata": {
        "colab": {
          "base_uri": "https://localhost:8080/"
        },
        "id": "KaMTlfI50BM5",
        "outputId": "96ecf6ee-2be1-4af0-eaf6-733818e99cb9"
      },
      "execution_count": 32,
      "outputs": [
        {
          "output_type": "execute_result",
          "data": {
            "text/plain": [
              "array([[1.6],\n",
              "       [1.6]])"
            ]
          },
          "metadata": {},
          "execution_count": 32
        }
      ]
    },
    {
      "cell_type": "markdown",
      "source": [
        "**Calculating loss:**"
      ],
      "metadata": {
        "id": "vHt4hPlix3CM"
      }
    },
    {
      "cell_type": "code",
      "source": [
        "A_2 = 0.32\n",
        "loss = np.square(y - A_2)\n",
        "print(loss)"
      ],
      "metadata": {
        "colab": {
          "base_uri": "https://localhost:8080/"
        },
        "id": "X-731wAyuREw",
        "outputId": "55f1d997-c651-4c15-d7ca-0f3b990ea271"
      },
      "execution_count": 27,
      "outputs": [
        {
          "output_type": "stream",
          "name": "stdout",
          "text": [
            "13.5424\n"
          ]
        }
      ]
    },
    {
      "cell_type": "markdown",
      "source": [
        "**Updating trainable parameters using gradient descent**"
      ],
      "metadata": {
        "id": "659hX4z6yD2h"
      }
    },
    {
      "cell_type": "code",
      "source": [
        "def update_parameters(parameters,y,y_hat,A1,X):\n",
        "  parameters['W2'][0][0] = parameters['W2'][0][0] + (0.001 * 2 * (y - y_hat)*A1[0][0])\n",
        "  parameters['W2'][0][1] = parameters['W2'][0][1] + (0.001 * 2 * (y - y_hat)*A1[1][0])\n",
        "  parameters['b2'][0][0] = parameters['b2'][0][0] + (0.001 * 2 * (y - y_hat))\n",
        "\n",
        "  parameters['W1'][0][0] = parameters['W1'][0][0] + (0.001 * 2 * (y - y_hat)*parameters['W2'][0][0]*X[0][0])\n",
        "  parameters['W1'][0][1] = parameters['W1'][0][1] + (0.001 * 2 * (y - y_hat)*parameters['W2'][0][0]*X[1][0])\n",
        "  parameters['b1'][0][0] = parameters['b1'][0][0] + (0.001 * 2 * (y - y_hat)*parameters['W2'][0][0])\n",
        "\n",
        "  parameters['W1'][1][0] = parameters['W1'][1][0] + (0.001 * 2 * (y - y_hat)*parameters['W2'][0][1]*X[0][0])\n",
        "  parameters['W1'][1][1] = parameters['W1'][1][1] + (0.001 * 2 * (y - y_hat)*parameters['W2'][0][1]*X[1][0])\n",
        "  parameters['b1'][1][0] = parameters['b1'][1][0] + (0.001 * 2 * (y - y_hat)*parameters['W2'][0][1])"
      ],
      "metadata": {
        "id": "VAuWoKm8yAjT"
      },
      "execution_count": 37,
      "outputs": []
    },
    {
      "cell_type": "code",
      "source": [
        "update_parameters(parameters, y, y_hat, A1, X)"
      ],
      "metadata": {
        "id": "lWY-RShx0NW2"
      },
      "execution_count": 38,
      "outputs": []
    },
    {
      "cell_type": "code",
      "metadata": {
        "id": "987244a0"
      },
      "source": [
        "update_parameters(parameters, y, y_hat, A1, X)"
      ],
      "execution_count": null,
      "outputs": []
    },
    {
      "cell_type": "code",
      "metadata": {
        "colab": {
          "base_uri": "https://localhost:8080/",
          "height": 121
        },
        "id": "7b9652cd",
        "outputId": "0cebb722-1a2a-4bc4-afea-d8c1843ebbed"
      },
      "source": [
        "display(parameters)"
      ],
      "execution_count": 39,
      "outputs": [
        {
          "output_type": "display_data",
          "data": {
            "text/plain": [
              "{'W1': array([[0.11454948, 0.11454948],\n",
              "        [0.10727474, 0.10727474]]),\n",
              " 'b1': array([[0.00181869],\n",
              "        [0.00090934]]),\n",
              " 'W2': array([[0.135328, 0.123552]]),\n",
              " 'b2': array([[0.01472]])}"
            ]
          },
          "metadata": {}
        }
      ]
    },
    {
      "cell_type": "markdown",
      "source": [
        "## **Main algorithm for looping through whole data for i no of epochs:**"
      ],
      "metadata": {
        "id": "m-xoHiM21jgY"
      }
    },
    {
      "cell_type": "code",
      "source": [
        "parameters = initialize_parameters([2,2,1])\n",
        "epochs = 5\n",
        "for i in range(epochs):\n",
        "  Loss = []\n",
        "\n",
        "  for j in range(df.shape[0]):\n",
        "    X = df[['cgpa','resume_score']].values[j].reshape(2,1)\n",
        "    y = df[['lpa']].values[j][0]\n",
        "    #initialize parameters:\n",
        "    y_hat, A1 = L_layer_forward(X, parameters)\n",
        "    y_hat = y_hat[0][0]\n",
        "\n",
        "    update_parameters(parameters, y, y_hat, A1, X)\n",
        "\n",
        "    Loss.append(np.square(y-y_hat))\n",
        "  print('Epoch - ',i+1,'Loss - ',np.array(Loss).mean())\n",
        "parameters"
      ],
      "metadata": {
        "colab": {
          "base_uri": "https://localhost:8080/"
        },
        "id": "ycPjiT6v02m-",
        "outputId": "125b584a-b64b-43c3-8328-ac2a412938a8"
      },
      "execution_count": 42,
      "outputs": [
        {
          "output_type": "stream",
          "name": "stdout",
          "text": [
            "Epoch -  1 Loss -  26.249691774703265\n",
            "Epoch -  2 Loss -  19.19634375189233\n",
            "Epoch -  3 Loss -  9.702531836210806\n",
            "Epoch -  4 Loss -  3.027416260208091\n",
            "Epoch -  5 Loss -  1.0597082587765176\n"
          ]
        },
        {
          "output_type": "execute_result",
          "data": {
            "text/plain": [
              "{'W1': array([[0.27790431, 0.40579137],\n",
              "        [0.27790431, 0.40579137]]),\n",
              " 'b1': array([[0.0295198],\n",
              "        [0.0295198]]),\n",
              " 'W2': array([[0.46411039, 0.46411039]]),\n",
              " 'b2': array([[0.11664796]])}"
            ]
          },
          "metadata": {},
          "execution_count": 42
        }
      ]
    },
    {
      "cell_type": "code",
      "source": [],
      "metadata": {
        "id": "0j56xQIW2NNH"
      },
      "execution_count": null,
      "outputs": []
    }
  ]
}